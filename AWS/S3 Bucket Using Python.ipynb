{
 "cells": [
  {
   "cell_type": "code",
   "execution_count": null,
   "id": "612002b4",
   "metadata": {},
   "outputs": [],
   "source": [
    "def S3bucket():\n",
    "    import boto3\n",
    "    import uuid"
   ]
  },
  {
   "cell_type": "code",
   "execution_count": null,
   "id": "17402504",
   "metadata": {},
   "outputs": [],
   "source": [
    "# AWS access keys\n",
    "    access_key = '******************'\n",
    "    secret_key = '*********************************'"
   ]
  },
  {
   "cell_type": "code",
   "execution_count": null,
   "id": "ed742e96",
   "metadata": {},
   "outputs": [],
   "source": [
    "# AWS region\n",
    "    region = 'ap-south-1b'  # Replace with your desired region"
   ]
  },
  {
   "cell_type": "code",
   "execution_count": null,
   "id": "ec2b099d",
   "metadata": {},
   "outputs": [],
   "source": [
    "# Create an S3 client using access keys\n",
    "    s3_client = boto3.client(\n",
    "        's3',\n",
    "        aws_access_key_id=access_key,\n",
    "        aws_secret_access_key=secret_key,\n",
    "        region_name=region\n",
    "    )"
   ]
  },
  {
   "cell_type": "code",
   "execution_count": null,
   "id": "f7305b18",
   "metadata": {},
   "outputs": [],
   "source": [
    "    # S3 bucket name\n",
    "    myuuid=uuid.uuid1().int\n",
    "    bucket_name = 'Bucket'+str(myuuid)  # Replace with your desired bucket name"
   ]
  },
  {
   "cell_type": "code",
   "execution_count": null,
   "id": "68bc9a73",
   "metadata": {},
   "outputs": [],
   "source": [
    "# Create an S3 bucket\n",
    "    s3_client.create_bucket(\n",
    "        Bucket=bucket_name,\n",
    "        CreateBucketConfiguration={\n",
    "            'LocationConstraint': region\n",
    "        }\n",
    "    )"
   ]
  },
  {
   "cell_type": "code",
   "execution_count": null,
   "id": "75eb653e",
   "metadata": {},
   "outputs": [],
   "source": [
    "    # Print the bucket creation confirmation\n",
    "    print(f\"Bucket '{bucket_name}' created successfully.\")"
   ]
  }
 ],
 "metadata": {
  "kernelspec": {
   "display_name": "Python 3 (ipykernel)",
   "language": "python",
   "name": "python3"
  },
  "language_info": {
   "codemirror_mode": {
    "name": "ipython",
    "version": 3
   },
   "file_extension": ".py",
   "mimetype": "text/x-python",
   "name": "python",
   "nbconvert_exporter": "python",
   "pygments_lexer": "ipython3",
   "version": "3.10.9"
  }
 },
 "nbformat": 4,
 "nbformat_minor": 5
}
